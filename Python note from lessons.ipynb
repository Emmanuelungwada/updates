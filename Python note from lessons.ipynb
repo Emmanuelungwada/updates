{
 "cells": [
  {
   "cell_type": "code",
   "execution_count": 1,
   "id": "240cb713",
   "metadata": {},
   "outputs": [
    {
     "name": "stdout",
     "output_type": "stream",
     "text": [
      "['False', 'None', 'True', '__peg_parser__', 'and', 'as', 'assert', 'async', 'await', 'break', 'class', 'continue', 'def', 'del', 'elif', 'else', 'except', 'finally', 'for', 'from', 'global', 'if', 'import', 'in', 'is', 'lambda', 'nonlocal', 'not', 'or', 'pass', 'raise', 'return', 'try', 'while', 'with', 'yield']\n"
     ]
    }
   ],
   "source": [
    "import keyword\n",
    "print(keyword.kwlist)"
   ]
  },
  {
   "cell_type": "markdown",
   "id": "f95cf209",
   "metadata": {},
   "source": [
    "we would use the above keywords when is being required\n"
   ]
  },
  {
   "cell_type": "markdown",
   "id": "d3ebc990",
   "metadata": {},
   "source": [
    "Boolean expressions\n",
    "Bolean expressions are created with the keywords and, or, not and is for example"
   ]
  },
  {
   "cell_type": "code",
   "execution_count": 6,
   "id": "19eceefc",
   "metadata": {},
   "outputs": [
    {
     "data": {
      "text/plain": [
       "True"
      ]
     },
     "execution_count": 6,
     "metadata": {},
     "output_type": "execute_result"
    }
   ],
   "source": [
    "True and True"
   ]
  },
  {
   "cell_type": "code",
   "execution_count": 7,
   "id": "332ab8f3",
   "metadata": {},
   "outputs": [
    {
     "data": {
      "text/plain": [
       "True"
      ]
     },
     "execution_count": 7,
     "metadata": {},
     "output_type": "execute_result"
    }
   ],
   "source": [
    "True or False"
   ]
  },
  {
   "cell_type": "code",
   "execution_count": 8,
   "id": "7a248ed9",
   "metadata": {},
   "outputs": [
    {
     "data": {
      "text/plain": [
       "False"
      ]
     },
     "execution_count": 8,
     "metadata": {},
     "output_type": "execute_result"
    }
   ],
   "source": [
    "not True"
   ]
  },
  {
   "cell_type": "code",
   "execution_count": 9,
   "id": "45ba9cb1",
   "metadata": {},
   "outputs": [
    {
     "data": {
      "text/plain": [
       "False"
      ]
     },
     "execution_count": 9,
     "metadata": {},
     "output_type": "execute_result"
    }
   ],
   "source": [
    "True is False"
   ]
  },
  {
   "cell_type": "code",
   "execution_count": 11,
   "id": "5e879ae9",
   "metadata": {},
   "outputs": [
    {
     "data": {
      "text/plain": [
       "True"
      ]
     },
     "execution_count": 11,
     "metadata": {},
     "output_type": "execute_result"
    }
   ],
   "source": [
    "10 == 10"
   ]
  },
  {
   "cell_type": "code",
   "execution_count": 13,
   "id": "0f16307f",
   "metadata": {},
   "outputs": [
    {
     "data": {
      "text/plain": [
       "2"
      ]
     },
     "execution_count": 13,
     "metadata": {},
     "output_type": "execute_result"
    }
   ],
   "source": [
    "True + True"
   ]
  },
  {
   "cell_type": "code",
   "execution_count": 14,
   "id": "d7cc6d67",
   "metadata": {},
   "outputs": [
    {
     "data": {
      "text/plain": [
       "1"
      ]
     },
     "execution_count": 14,
     "metadata": {},
     "output_type": "execute_result"
    }
   ],
   "source": [
    "True + False "
   ]
  },
  {
   "cell_type": "code",
   "execution_count": 15,
   "id": "eef9530c",
   "metadata": {},
   "outputs": [
    {
     "data": {
      "text/plain": [
       "0"
      ]
     },
     "execution_count": 15,
     "metadata": {},
     "output_type": "execute_result"
    }
   ],
   "source": [
    "False + False "
   ]
  },
  {
   "cell_type": "code",
   "execution_count": 16,
   "id": "9d1c7628",
   "metadata": {},
   "outputs": [
    {
     "data": {
      "text/plain": [
       "1"
      ]
     },
     "execution_count": 16,
     "metadata": {},
     "output_type": "execute_result"
    }
   ],
   "source": [
    "True - False"
   ]
  },
  {
   "cell_type": "code",
   "execution_count": 17,
   "id": "f0cd2a36",
   "metadata": {},
   "outputs": [
    {
     "data": {
      "text/plain": [
       "False"
      ]
     },
     "execution_count": 17,
     "metadata": {},
     "output_type": "execute_result"
    }
   ],
   "source": [
    "8 == 9"
   ]
  },
  {
   "cell_type": "code",
   "execution_count": 19,
   "id": "2ad60a36",
   "metadata": {},
   "outputs": [
    {
     "data": {
      "text/plain": [
       "False"
      ]
     },
     "execution_count": 19,
     "metadata": {},
     "output_type": "execute_result"
    }
   ],
   "source": [
    "8 == 9"
   ]
  },
  {
   "cell_type": "code",
   "execution_count": 20,
   "id": "cd8a2e69",
   "metadata": {},
   "outputs": [
    {
     "data": {
      "text/plain": [
       "True"
      ]
     },
     "execution_count": 20,
     "metadata": {},
     "output_type": "execute_result"
    }
   ],
   "source": [
    "10 == 10"
   ]
  },
  {
   "cell_type": "code",
   "execution_count": 3,
   "id": "6debc543",
   "metadata": {},
   "outputs": [
    {
     "data": {
      "text/plain": [
       "True"
      ]
     },
     "execution_count": 3,
     "metadata": {},
     "output_type": "execute_result"
    }
   ],
   "source": [
    "True and False or True"
   ]
  },
  {
   "cell_type": "code",
   "execution_count": 12,
   "id": "e0a9975a",
   "metadata": {},
   "outputs": [
    {
     "data": {
      "text/plain": [
       "False"
      ]
     },
     "execution_count": 12,
     "metadata": {},
     "output_type": "execute_result"
    }
   ],
   "source": [
    "'b' == 'c'"
   ]
  },
  {
   "cell_type": "code",
   "execution_count": 21,
   "id": "b836f203",
   "metadata": {},
   "outputs": [
    {
     "data": {
      "text/plain": [
       "True"
      ]
     },
     "execution_count": 21,
     "metadata": {},
     "output_type": "execute_result"
    }
   ],
   "source": [
    "10 <= 10"
   ]
  },
  {
   "cell_type": "code",
   "execution_count": null,
   "id": "1df6f802",
   "metadata": {},
   "outputs": [],
   "source": [
    "DATA TYPES/STRUCTURES"
   ]
  },
  {
   "cell_type": "code",
   "execution_count": null,
   "id": "07166c54",
   "metadata": {},
   "outputs": [],
   "source": [
    "*Numbers\n",
    "*Strings\n",
    "*List\n",
    "*Tuple\n",
    "*Set\n",
    "*Dictionary"
   ]
  },
  {
   "cell_type": "code",
   "execution_count": null,
   "id": "966c347e",
   "metadata": {},
   "outputs": [],
   "source": [
    "NUMBERS"
   ]
  },
  {
   "cell_type": "code",
   "execution_count": null,
   "id": "8f0ba528",
   "metadata": {},
   "outputs": [],
   "source": [
    "Integers (int)"
   ]
  },
  {
   "cell_type": "code",
   "execution_count": null,
   "id": "56932f98",
   "metadata": {},
   "outputs": [],
   "source": [
    "# Variables and data assignment \n",
    "# a = variables\n",
    "# 20 = data \n",
    "\n",
    "a = 20"
   ]
  },
  {
   "cell_type": "code",
   "execution_count": 4,
   "id": "aeabee7b",
   "metadata": {},
   "outputs": [
    {
     "name": "stdout",
     "output_type": "stream",
     "text": [
      "20\n"
     ]
    }
   ],
   "source": [
    "a = 20\n",
    "print (a)"
   ]
  },
  {
   "cell_type": "code",
   "execution_count": null,
   "id": "8edc47eb",
   "metadata": {},
   "outputs": [],
   "source": [
    "How do i check the data type?"
   ]
  },
  {
   "cell_type": "code",
   "execution_count": 5,
   "id": "a89fa92c",
   "metadata": {},
   "outputs": [
    {
     "data": {
      "text/plain": [
       "int"
      ]
     },
     "execution_count": 5,
     "metadata": {},
     "output_type": "execute_result"
    }
   ],
   "source": [
    "type(a)"
   ]
  },
  {
   "cell_type": "code",
   "execution_count": null,
   "id": "de67349b",
   "metadata": {},
   "outputs": [],
   "source": [
    "float"
   ]
  },
  {
   "cell_type": "code",
   "execution_count": 8,
   "id": "16cc2d58",
   "metadata": {},
   "outputs": [
    {
     "name": "stdout",
     "output_type": "stream",
     "text": [
      "30\n"
     ]
    }
   ],
   "source": [
    "a = 10\n",
    "b = 20\n",
    "c = a + b\n",
    "print (c)"
   ]
  },
  {
   "cell_type": "code",
   "execution_count": 9,
   "id": "169bf9e1",
   "metadata": {},
   "outputs": [
    {
     "name": "stdout",
     "output_type": "stream",
     "text": [
      "300\n"
     ]
    }
   ],
   "source": [
    "print (c * 10)"
   ]
  },
  {
   "cell_type": "raw",
   "id": "8a660f62",
   "metadata": {},
   "source": [
    "STRING"
   ]
  },
  {
   "cell_type": "code",
   "execution_count": 11,
   "id": "56320c3f",
   "metadata": {},
   "outputs": [
    {
     "name": "stdout",
     "output_type": "stream",
     "text": [
      "Hello world\n"
     ]
    }
   ],
   "source": [
    "print ('Hello world')"
   ]
  },
  {
   "cell_type": "code",
   "execution_count": 15,
   "id": "8f9ba3a6",
   "metadata": {},
   "outputs": [
    {
     "data": {
      "text/plain": [
       "str"
      ]
     },
     "execution_count": 15,
     "metadata": {},
     "output_type": "execute_result"
    }
   ],
   "source": [
    "first_string = 'python'\n",
    "type (first_string)"
   ]
  },
  {
   "cell_type": "code",
   "execution_count": null,
   "id": "5ece8142",
   "metadata": {},
   "outputs": [],
   "source": [
    "second_string = 'is powerful'"
   ]
  },
  {
   "cell_type": "code",
   "execution_count": null,
   "id": "3692446a",
   "metadata": {},
   "outputs": [],
   "source": [
    "third_string = 'language'"
   ]
  },
  {
   "cell_type": "code",
   "execution_count": null,
   "id": "8b38bc4a",
   "metadata": {
    "collapsed": true
   },
   "outputs": [],
   "source": [
    "OTHER OPERATION ON STRINGS"
   ]
  },
  {
   "cell_type": "code",
   "execution_count": 22,
   "id": "eaf3fb64",
   "metadata": {},
   "outputs": [
    {
     "name": "stdout",
     "output_type": "stream",
     "text": [
      "daydaydaydayday\n"
     ]
    }
   ],
   "source": [
    "print ('day'  *5 )"
   ]
  },
  {
   "cell_type": "code",
   "execution_count": 23,
   "id": "c39034d8",
   "metadata": {},
   "outputs": [
    {
     "name": "stdout",
     "output_type": "stream",
     "text": [
      "day2\n"
     ]
    }
   ],
   "source": [
    "print ('day' + '2')"
   ]
  },
  {
   "cell_type": "code",
   "execution_count": 18,
   "id": "32cf761e",
   "metadata": {},
   "outputs": [
    {
     "name": "stdout",
     "output_type": "stream",
     "text": [
      "young grt is the best\n"
     ]
    }
   ],
   "source": [
    "print ('young', 'grt', 'is', 'the', 'best' )"
   ]
  },
  {
   "cell_type": "code",
   "execution_count": 37,
   "id": "a53ef7d8",
   "metadata": {},
   "outputs": [
    {
     "data": {
      "text/plain": [
       "[5, 6, 8, 9, 6, 6]"
      ]
     },
     "execution_count": 37,
     "metadata": {},
     "output_type": "execute_result"
    }
   ],
   "source": [
    "marks = [5,6,8,9,6,6]\n",
    "marks"
   ]
  },
  {
   "cell_type": "code",
   "execution_count": 38,
   "id": "1469d96c",
   "metadata": {},
   "outputs": [
    {
     "data": {
      "text/plain": [
       "['a', 'b']"
      ]
     },
     "execution_count": 38,
     "metadata": {},
     "output_type": "execute_result"
    }
   ],
   "source": [
    "a = ['a', 'b']\n",
    "a"
   ]
  },
  {
   "cell_type": "code",
   "execution_count": 41,
   "id": "5a81cebf",
   "metadata": {},
   "outputs": [
    {
     "data": {
      "text/plain": [
       "['a', 7, 6.9]"
      ]
     },
     "execution_count": 41,
     "metadata": {},
     "output_type": "execute_result"
    }
   ],
   "source": [
    "t = ['a', 7,6.9]\n",
    "t"
   ]
  },
  {
   "cell_type": "code",
   "execution_count": 43,
   "id": "c143a7de",
   "metadata": {},
   "outputs": [
    {
     "data": {
      "text/plain": [
       "['e', 'm', 'm', 'a', 'n', 'u', 'e', 'l']"
      ]
     },
     "execution_count": 43,
     "metadata": {},
     "output_type": "execute_result"
    }
   ],
   "source": [
    "list ('emmanuel')"
   ]
  },
  {
   "cell_type": "code",
   "execution_count": null,
   "id": "801881a8",
   "metadata": {},
   "outputs": [],
   "source": [
    "APPEND"
   ]
  },
  {
   "cell_type": "code",
   "execution_count": 44,
   "id": "a20f4ad7",
   "metadata": {},
   "outputs": [],
   "source": [
    "employee = []"
   ]
  },
  {
   "cell_type": "code",
   "execution_count": 45,
   "id": "72f11d9d",
   "metadata": {},
   "outputs": [
    {
     "name": "stdout",
     "output_type": "stream",
     "text": [
      "Collecting jedi==0.17.2\n",
      "  Downloading jedi-0.17.2-py2.py3-none-any.whl (1.4 MB)\n",
      "\u001b[K     |████████████████████████████████| 1.4 MB 2.9 MB/s eta 0:00:01\n",
      "\u001b[?25hCollecting parso<0.8.0,>=0.7.0\n",
      "  Downloading parso-0.7.1-py2.py3-none-any.whl (109 kB)\n",
      "\u001b[K     |████████████████████████████████| 109 kB 48.3 MB/s eta 0:00:01\n",
      "\u001b[?25hInstalling collected packages: parso, jedi\n",
      "  Attempting uninstall: parso\n",
      "    Found existing installation: parso 0.8.3\n",
      "    Uninstalling parso-0.8.3:\n",
      "      Successfully uninstalled parso-0.8.3\n",
      "  Attempting uninstall: jedi\n",
      "    Found existing installation: jedi 0.18.1\n",
      "    Uninstalling jedi-0.18.1:\n",
      "      Successfully uninstalled jedi-0.18.1\n",
      "\u001b[31mERROR: pip's dependency resolver does not currently take into account all the packages that are installed. This behaviour is the source of the following dependency conflicts.\n",
      "spyder 5.1.5 requires pyqt5<5.13, which is not installed.\n",
      "spyder 5.1.5 requires pyqtwebengine<5.13, which is not installed.\u001b[0m\n",
      "Successfully installed jedi-0.17.2 parso-0.7.1\n"
     ]
    }
   ],
   "source": [
    "!pip3 install jedi==0.17.2"
   ]
  },
  {
   "cell_type": "code",
   "execution_count": 54,
   "id": "001127d2",
   "metadata": {},
   "outputs": [
    {
     "ename": "SyntaxError",
     "evalue": "invalid syntax (3920990002.py, line 1)",
     "output_type": "error",
     "traceback": [
      "\u001b[0;36m  Input \u001b[0;32mIn [54]\u001b[0;36m\u001b[0m\n\u001b[0;31m    INDEX AND INSERT\u001b[0m\n\u001b[0m          ^\u001b[0m\n\u001b[0;31mSyntaxError\u001b[0m\u001b[0;31m:\u001b[0m invalid syntax\n"
     ]
    }
   ],
   "source": [
    "INDEX AND INSERT\n",
    "two arguments can be placed in inserts"
   ]
  },
  {
   "cell_type": "code",
   "execution_count": 71,
   "id": "dac33694",
   "metadata": {},
   "outputs": [
    {
     "data": {
      "text/plain": [
       "(4000, 3000, 6000, 8000)"
      ]
     },
     "execution_count": 71,
     "metadata": {},
     "output_type": "execute_result"
    }
   ],
   "source": [
    "emp_salary = (4000,3000,6000,8000)\n",
    "emp_salary"
   ]
  },
  {
   "cell_type": "code",
   "execution_count": 79,
   "id": "00c24051",
   "metadata": {},
   "outputs": [
    {
     "data": {
      "text/plain": [
       "17"
      ]
     },
     "execution_count": 79,
     "metadata": {},
     "output_type": "execute_result"
    }
   ],
   "source": [
    "len(employee)"
   ]
  },
  {
   "cell_type": "code",
   "execution_count": null,
   "id": "a534c250",
   "metadata": {},
   "outputs": [],
   "source": [
    "INDEXING AND SLICING\n"
   ]
  },
  {
   "cell_type": "code",
   "execution_count": 82,
   "id": "29efd7c2",
   "metadata": {},
   "outputs": [
    {
     "data": {
      "text/plain": [
       "(4000, 3000, 6000, 8000)"
      ]
     },
     "execution_count": 82,
     "metadata": {},
     "output_type": "execute_result"
    }
   ],
   "source": [
    "emp_salary"
   ]
  },
  {
   "cell_type": "code",
   "execution_count": null,
   "id": "3c058e91",
   "metadata": {},
   "outputs": [],
   "source": [
    "APPEND "
   ]
  },
  {
   "cell_type": "code",
   "execution_count": 33,
   "id": "40c88cfa",
   "metadata": {
    "scrolled": true
   },
   "outputs": [
    {
     "name": "stdout",
     "output_type": "stream",
     "text": [
      "('emma', 'son', 'linus')\n"
     ]
    }
   ],
   "source": [
    "employee = ('emma', 'son', 'linus')\n",
    "print (employee)"
   ]
  },
  {
   "cell_type": "code",
   "execution_count": 36,
   "id": "c6fb6758",
   "metadata": {},
   "outputs": [
    {
     "name": "stdout",
     "output_type": "stream",
     "text": [
      "(5000, 6000, 7000)\n"
     ]
    }
   ],
   "source": [
    "emp_salary = (5000,6000,7000)\n",
    "print (emp_salary)"
   ]
  },
  {
   "cell_type": "code",
   "execution_count": 38,
   "id": "02bb6cd5",
   "metadata": {},
   "outputs": [
    {
     "data": {
      "text/plain": [
       "('emma', 'son', 'linus')"
      ]
     },
     "execution_count": 38,
     "metadata": {},
     "output_type": "execute_result"
    }
   ],
   "source": [
    "employee"
   ]
  },
  {
   "cell_type": "code",
   "execution_count": 39,
   "id": "36d47018",
   "metadata": {},
   "outputs": [
    {
     "data": {
      "text/plain": [
       "3"
      ]
     },
     "execution_count": 39,
     "metadata": {},
     "output_type": "execute_result"
    }
   ],
   "source": [
    "len(employee)"
   ]
  },
  {
   "cell_type": "code",
   "execution_count": 40,
   "id": "7f5797bd",
   "metadata": {},
   "outputs": [
    {
     "data": {
      "text/plain": [
       "'linus'"
      ]
     },
     "execution_count": 40,
     "metadata": {},
     "output_type": "execute_result"
    }
   ],
   "source": [
    "employee[2]"
   ]
  },
  {
   "cell_type": "code",
   "execution_count": 44,
   "id": "e6610407",
   "metadata": {},
   "outputs": [
    {
     "data": {
      "text/plain": [
       "(6000, 7000)"
      ]
     },
     "execution_count": 44,
     "metadata": {},
     "output_type": "execute_result"
    }
   ],
   "source": [
    "emp_salary [1: ]"
   ]
  },
  {
   "cell_type": "code",
   "execution_count": 45,
   "id": "a3146655",
   "metadata": {},
   "outputs": [
    {
     "data": {
      "text/plain": [
       "(5000, 6000)"
      ]
     },
     "execution_count": 45,
     "metadata": {},
     "output_type": "execute_result"
    }
   ],
   "source": [
    "emp_salary [: 2]"
   ]
  },
  {
   "cell_type": "code",
   "execution_count": 47,
   "id": "d05e87d7",
   "metadata": {},
   "outputs": [
    {
     "data": {
      "text/plain": [
       "(5000, 6000)"
      ]
     },
     "execution_count": 47,
     "metadata": {},
     "output_type": "execute_result"
    }
   ],
   "source": [
    "emp_salary [0:2]"
   ]
  },
  {
   "cell_type": "code",
   "execution_count": 51,
   "id": "b3e9d36d",
   "metadata": {},
   "outputs": [
    {
     "data": {
      "text/plain": [
       "(5000, 6000, 7000)"
      ]
     },
     "execution_count": 51,
     "metadata": {},
     "output_type": "execute_result"
    }
   ],
   "source": [
    "emp_salary"
   ]
  },
  {
   "cell_type": "markdown",
   "id": "19f63925",
   "metadata": {},
   "source": [
    "COUNT"
   ]
  },
  {
   "cell_type": "code",
   "execution_count": null,
   "id": "ca8a8866",
   "metadata": {},
   "outputs": [],
   "source": [
    "marks = [9,8,7,6,5,4,3,2,1,2,3,4,5,6,4,3,,4]\n"
   ]
  },
  {
   "cell_type": "code",
   "execution_count": 57,
   "id": "60b05b7c",
   "metadata": {},
   "outputs": [
    {
     "data": {
      "text/plain": [
       "('emma', 'son', 'linus')"
      ]
     },
     "execution_count": 57,
     "metadata": {},
     "output_type": "execute_result"
    }
   ],
   "source": [
    "employee"
   ]
  },
  {
   "cell_type": "markdown",
   "id": "b557069a",
   "metadata": {},
   "source": [
    "POP"
   ]
  },
  {
   "cell_type": "code",
   "execution_count": 60,
   "id": "db000df5",
   "metadata": {},
   "outputs": [
    {
     "data": {
      "text/plain": [
       "['rej', 'raj', 'lim', 'taj']"
      ]
     },
     "execution_count": 60,
     "metadata": {},
     "output_type": "execute_result"
    }
   ],
   "source": [
    "students = ['rej', 'raj', 'lim', 'taj']\n",
    "students"
   ]
  },
  {
   "cell_type": "code",
   "execution_count": 63,
   "id": "88adb067",
   "metadata": {},
   "outputs": [
    {
     "data": {
      "text/plain": [
       "'raj'"
      ]
     },
     "execution_count": 63,
     "metadata": {},
     "output_type": "execute_result"
    }
   ],
   "source": [
    "pop_last = students.pop()\n",
    "pop_last"
   ]
  },
  {
   "cell_type": "code",
   "execution_count": 64,
   "id": "3ad4f7c4",
   "metadata": {},
   "outputs": [
    {
     "data": {
      "text/plain": [
       "['rej']"
      ]
     },
     "execution_count": 64,
     "metadata": {},
     "output_type": "execute_result"
    }
   ],
   "source": [
    "students"
   ]
  },
  {
   "cell_type": "code",
   "execution_count": null,
   "id": "4db3e0fc",
   "metadata": {},
   "outputs": [],
   "source": [
    "roll_number = (1,9,8,9,0,8)"
   ]
  },
  {
   "cell_type": "code",
   "execution_count": 65,
   "id": "5dc96e7e",
   "metadata": {},
   "outputs": [
    {
     "ename": "NameError",
     "evalue": "name 'roll_number' is not defined",
     "output_type": "error",
     "traceback": [
      "\u001b[0;31m---------------------------------------------------------------------------\u001b[0m",
      "\u001b[0;31mNameError\u001b[0m                                 Traceback (most recent call last)",
      "Input \u001b[0;32mIn [65]\u001b[0m, in \u001b[0;36m<cell line: 1>\u001b[0;34m()\u001b[0m\n\u001b[0;32m----> 1\u001b[0m \u001b[43mroll_number\u001b[49m\u001b[38;5;241m.\u001b[39mremove(\u001b[38;5;241m8\u001b[39m)\n\u001b[1;32m      2\u001b[0m \u001b[38;5;28mprint\u001b[39m (roll_number)\n",
      "\u001b[0;31mNameError\u001b[0m: name 'roll_number' is not defined"
     ]
    }
   ],
   "source": [
    "roll_number.remove(8)\n",
    "print (roll_number)"
   ]
  },
  {
   "cell_type": "code",
   "execution_count": null,
   "id": "a11705dc",
   "metadata": {},
   "outputs": [],
   "source": [
    "TUPLE\n",
    "    types of typle\n",
    "    *construyctive tuple\n",
    "    "
   ]
  },
  {
   "cell_type": "code",
   "execution_count": 12,
   "id": "103ba845",
   "metadata": {},
   "outputs": [
    {
     "data": {
      "text/plain": [
       "('london', 'newcastcle', 'sunderland')"
      ]
     },
     "execution_count": 12,
     "metadata": {},
     "output_type": "execute_result"
    }
   ],
   "source": [
    "work_location = ('london', 'newcastcle', 'sunderland')\n",
    "work_location"
   ]
  },
  {
   "cell_type": "code",
   "execution_count": 13,
   "id": "d9817f67",
   "metadata": {},
   "outputs": [
    {
     "data": {
      "text/plain": [
       "tuple"
      ]
     },
     "execution_count": 13,
     "metadata": {},
     "output_type": "execute_result"
    }
   ],
   "source": [
    "type(work_location)"
   ]
  },
  {
   "cell_type": "code",
   "execution_count": 1,
   "id": "d23a03d2",
   "metadata": {},
   "outputs": [
    {
     "data": {
      "text/plain": [
       "(4000, 3000, 6000)"
      ]
     },
     "execution_count": 1,
     "metadata": {},
     "output_type": "execute_result"
    }
   ],
   "source": [
    "emp_salary = (4000,3000,6000)\n",
    "emp_salary"
   ]
  },
  {
   "cell_type": "code",
   "execution_count": 5,
   "id": "ec9aeabf",
   "metadata": {},
   "outputs": [
    {
     "data": {
      "text/plain": [
       "tuple"
      ]
     },
     "execution_count": 5,
     "metadata": {},
     "output_type": "execute_result"
    }
   ],
   "source": [
    "type(emp_salary)"
   ]
  },
  {
   "cell_type": "code",
   "execution_count": 14,
   "id": "cfc5f047",
   "metadata": {},
   "outputs": [
    {
     "data": {
      "text/plain": [
       "['london', 'newcastcle', 'sunderland']"
      ]
     },
     "execution_count": 14,
     "metadata": {},
     "output_type": "execute_result"
    }
   ],
   "source": [
    "work_location = list(work_location)\n",
    "work_location"
   ]
  },
  {
   "cell_type": "code",
   "execution_count": 15,
   "id": "eb9b2d43",
   "metadata": {},
   "outputs": [
    {
     "data": {
      "text/plain": [
       "list"
      ]
     },
     "execution_count": 15,
     "metadata": {},
     "output_type": "execute_result"
    }
   ],
   "source": [
    "type(work_location)"
   ]
  },
  {
   "cell_type": "code",
   "execution_count": 16,
   "id": "f945a5dd",
   "metadata": {},
   "outputs": [
    {
     "data": {
      "text/plain": [
       "['london', 'newcastcle', 'sunderland', 'california']"
      ]
     },
     "execution_count": 16,
     "metadata": {},
     "output_type": "execute_result"
    }
   ],
   "source": [
    "work_location.append('california')\n",
    "work_location"
   ]
  },
  {
   "cell_type": "code",
   "execution_count": 18,
   "id": "fb29a4b4",
   "metadata": {},
   "outputs": [
    {
     "data": {
      "text/plain": [
       "['london', 'singapore', 'sunderland', 'california']"
      ]
     },
     "execution_count": 18,
     "metadata": {},
     "output_type": "execute_result"
    }
   ],
   "source": [
    "work_location[1] = 'singapore'\n",
    "work_location"
   ]
  },
  {
   "cell_type": "code",
   "execution_count": 19,
   "id": "2848b22b",
   "metadata": {},
   "outputs": [
    {
     "data": {
      "text/plain": [
       "('london', 'singapore', 'sunderland', 'california')"
      ]
     },
     "execution_count": 19,
     "metadata": {},
     "output_type": "execute_result"
    }
   ],
   "source": [
    "work_location = tuple(work_location)\n",
    "work_location"
   ]
  },
  {
   "cell_type": "code",
   "execution_count": null,
   "id": "9bc9698b",
   "metadata": {},
   "outputs": [],
   "source": [
    "work_location."
   ]
  },
  {
   "cell_type": "code",
   "execution_count": 20,
   "id": "5357528c",
   "metadata": {},
   "outputs": [
    {
     "data": {
      "text/plain": [
       "(34, 67, 98, 67)"
      ]
     },
     "execution_count": 20,
     "metadata": {},
     "output_type": "execute_result"
    }
   ],
   "source": [
    "numbers = (34,67,98,67)\n",
    "numbers"
   ]
  },
  {
   "cell_type": "code",
   "execution_count": 21,
   "id": "f21c053a",
   "metadata": {},
   "outputs": [
    {
     "data": {
      "text/plain": [
       "1"
      ]
     },
     "execution_count": 21,
     "metadata": {},
     "output_type": "execute_result"
    }
   ],
   "source": [
    "numbers.index(67)"
   ]
  },
  {
   "cell_type": "code",
   "execution_count": 23,
   "id": "88cb0224",
   "metadata": {},
   "outputs": [
    {
     "data": {
      "text/plain": [
       "2"
      ]
     },
     "execution_count": 23,
     "metadata": {},
     "output_type": "execute_result"
    }
   ],
   "source": [
    "numbers.count(67)"
   ]
  },
  {
   "cell_type": "markdown",
   "id": "c8236310",
   "metadata": {},
   "source": [
    "#SET"
   ]
  },
  {
   "cell_type": "code",
   "execution_count": null,
   "id": "cc263326",
   "metadata": {},
   "outputs": [],
   "source": [
    "roll_numbers = set()"
   ]
  },
  {
   "cell_type": "code",
   "execution_count": null,
   "id": "90b299a2",
   "metadata": {},
   "outputs": [],
   "source": [
    "remove_dups[3,8,9,6,4,3,1,3,8,7]"
   ]
  },
  {
   "cell_type": "code",
   "execution_count": 37,
   "id": "ca078774",
   "metadata": {},
   "outputs": [
    {
     "ename": "NameError",
     "evalue": "name 'remove_dups' is not defined",
     "output_type": "error",
     "traceback": [
      "\u001b[0;31m---------------------------------------------------------------------------\u001b[0m",
      "\u001b[0;31mNameError\u001b[0m                                 Traceback (most recent call last)",
      "Input \u001b[0;32mIn [37]\u001b[0m, in \u001b[0;36m<cell line: 1>\u001b[0;34m()\u001b[0m\n\u001b[0;32m----> 1\u001b[0m dups_removed \u001b[38;5;241m=\u001b[39m \u001b[38;5;28mset\u001b[39m(\u001b[43mremove_dups\u001b[49m)\n\u001b[1;32m      2\u001b[0m dups_remove\n",
      "\u001b[0;31mNameError\u001b[0m: name 'remove_dups' is not defined"
     ]
    }
   ],
   "source": [
    "dups_removed = set(remove_dups)\n",
    "dups_remove"
   ]
  },
  {
   "cell_type": "code",
   "execution_count": null,
   "id": "44548c10",
   "metadata": {},
   "outputs": [],
   "source": [
    "DICTIONARY"
   ]
  },
  {
   "cell_type": "code",
   "execution_count": 38,
   "id": "a8e8b24a",
   "metadata": {},
   "outputs": [
    {
     "data": {
      "text/plain": [
       "{'key1': 'value1', 'key2': 'value2'}"
      ]
     },
     "execution_count": 38,
     "metadata": {},
     "output_type": "execute_result"
    }
   ],
   "source": [
    "my_dict = {'key1':'value1', 'key2':'value2'}\n",
    "my_dict"
   ]
  },
  {
   "cell_type": "code",
   "execution_count": 39,
   "id": "dfb47d0c",
   "metadata": {},
   "outputs": [
    {
     "data": {
      "text/plain": [
       "dict"
      ]
     },
     "execution_count": 39,
     "metadata": {},
     "output_type": "execute_result"
    }
   ],
   "source": [
    "type(my_dict)"
   ]
  },
  {
   "cell_type": "code",
   "execution_count": 41,
   "id": "c21b3819",
   "metadata": {},
   "outputs": [
    {
     "data": {
      "text/plain": [
       "'value2'"
      ]
     },
     "execution_count": 41,
     "metadata": {},
     "output_type": "execute_result"
    }
   ],
   "source": [
    "my_dict['key2']"
   ]
  },
  {
   "cell_type": "code",
   "execution_count": 9,
   "id": "969412e5",
   "metadata": {},
   "outputs": [
    {
     "data": {
      "text/plain": [
       "{'roll_number': 123,\n",
       " 'marks': [2, 4, 3],\n",
       " 'subject': ['commerce', 'computer', 'agric']}"
      ]
     },
     "execution_count": 9,
     "metadata": {},
     "output_type": "execute_result"
    }
   ],
   "source": [
    "my_dict = {'roll_number':123, 'marks':[2,4,3], 'subject':['commerce','computer','agric']}\n",
    "my_dict"
   ]
  },
  {
   "cell_type": "code",
   "execution_count": 54,
   "id": "4ce134f5",
   "metadata": {},
   "outputs": [
    {
     "data": {
      "text/plain": [
       "[2, 4, 3]"
      ]
     },
     "execution_count": 54,
     "metadata": {},
     "output_type": "execute_result"
    }
   ],
   "source": [
    "my_dict['marks']"
   ]
  },
  {
   "cell_type": "code",
   "execution_count": 55,
   "id": "c3a2cb05",
   "metadata": {},
   "outputs": [
    {
     "data": {
      "text/plain": [
       "'COMMERCE'"
      ]
     },
     "execution_count": 55,
     "metadata": {},
     "output_type": "execute_result"
    }
   ],
   "source": [
    "my_dict['subject'][0].upper()"
   ]
  },
  {
   "cell_type": "code",
   "execution_count": 57,
   "id": "9dd2dc10",
   "metadata": {},
   "outputs": [
    {
     "data": {
      "text/plain": [
       "[8, 4, 3]"
      ]
     },
     "execution_count": 57,
     "metadata": {},
     "output_type": "execute_result"
    }
   ],
   "source": [
    "my_dict['marks'][0] = my_dict['marks'][0]+3\n",
    "my_dict['marks']"
   ]
  },
  {
   "cell_type": "code",
   "execution_count": 60,
   "id": "70a843e5",
   "metadata": {},
   "outputs": [
    {
     "data": {
      "text/plain": [
       "['commerce', 'computer', 'agric']"
      ]
     },
     "execution_count": 60,
     "metadata": {},
     "output_type": "execute_result"
    }
   ],
   "source": [
    "my_dict['subject'][1]\n",
    "my_dict['subject']"
   ]
  },
  {
   "cell_type": "code",
   "execution_count": 59,
   "id": "d7835f91",
   "metadata": {},
   "outputs": [
    {
     "data": {
      "text/plain": [
       "[6, 4, 3]"
      ]
     },
     "execution_count": 59,
     "metadata": {},
     "output_type": "execute_result"
    }
   ],
   "source": [
    "my_dict['marks'][0] -=2\n",
    "my_dict['marks']"
   ]
  },
  {
   "cell_type": "code",
   "execution_count": 11,
   "id": "b5fed9b5",
   "metadata": {},
   "outputs": [
    {
     "data": {
      "text/plain": [
       "{'roll_number': 123,\n",
       " 'marks': [2, 4, 3],\n",
       " 'subject': ['commerce', 'computer', 'agric'],\n",
       " 'year': '3rd'}"
      ]
     },
     "execution_count": 11,
     "metadata": {},
     "output_type": "execute_result"
    }
   ],
   "source": [
    "my_dict['year'] = '3rd'\n",
    "my_dict"
   ]
  },
  {
   "cell_type": "code",
   "execution_count": 12,
   "id": "e289cdc9",
   "metadata": {},
   "outputs": [
    {
     "data": {
      "text/plain": [
       "dict_items([('roll_number', 123), ('marks', [2, 4, 3]), ('subject', ['commerce', 'computer', 'agric']), ('year', '3rd')])"
      ]
     },
     "execution_count": 12,
     "metadata": {},
     "output_type": "execute_result"
    }
   ],
   "source": [
    "my_dict.items()"
   ]
  },
  {
   "cell_type": "code",
   "execution_count": 13,
   "id": "beebabe4",
   "metadata": {},
   "outputs": [
    {
     "data": {
      "text/plain": [
       "dict_keys(['roll_number', 'marks', 'subject', 'year'])"
      ]
     },
     "execution_count": 13,
     "metadata": {},
     "output_type": "execute_result"
    }
   ],
   "source": [
    "my_dict.keys()"
   ]
  },
  {
   "cell_type": "markdown",
   "id": "0c26351c",
   "metadata": {},
   "source": [
    "# BRANCHING [if, elif, esle]"
   ]
  },
  {
   "cell_type": "code",
   "execution_count": 27,
   "id": "08c10803",
   "metadata": {},
   "outputs": [],
   "source": [
    "i = 8\n",
    "        "
   ]
  },
  {
   "cell_type": "code",
   "execution_count": null,
   "id": "24cf669e",
   "metadata": {},
   "outputs": [],
   "source": []
  },
  {
   "cell_type": "code",
   "execution_count": 22,
   "id": "a57e8425",
   "metadata": {},
   "outputs": [
    {
     "ename": "NameError",
     "evalue": "name 'i' is not defined",
     "output_type": "error",
     "traceback": [
      "\u001b[0;31m---------------------------------------------------------------------------\u001b[0m",
      "\u001b[0;31mNameError\u001b[0m                                 Traceback (most recent call last)",
      "Input \u001b[0;32mIn [22]\u001b[0m, in \u001b[0;36m<cell line: 1>\u001b[0;34m()\u001b[0m\n\u001b[0;32m----> 1\u001b[0m \u001b[38;5;28mprint\u001b[39m(\u001b[38;5;124m'\u001b[39m\u001b[38;5;124mit is less than 10\u001b[39m\u001b[38;5;124m'\u001b[39m) \u001b[38;5;28;01mif\u001b[39;00m \u001b[43mi\u001b[49m \u001b[38;5;241m<\u001b[39m \u001b[38;5;241m10\u001b[39m \u001b[38;5;28;01melse\u001b[39;00m \u001b[38;5;28mprint\u001b[39m(\u001b[38;5;124m'\u001b[39m\u001b[38;5;124mit is something else\u001b[39m\u001b[38;5;124m'\u001b[39m)\n",
      "\u001b[0;31mNameError\u001b[0m: name 'i' is not defined"
     ]
    }
   ],
   "source": [
    "print('it is less than 10') if i < 10 else print('it is something else')"
   ]
  },
  {
   "cell_type": "code",
   "execution_count": 29,
   "id": "e84c652f",
   "metadata": {},
   "outputs": [
    {
     "name": "stdout",
     "output_type": "stream",
     "text": [
      "please add 100 naira worth of an item for free shipping\n"
     ]
    }
   ],
   "source": [
    "item_1 = 100\n",
    "\n",
    "item_2 = 300\n",
    "\n",
    "if(item_1 + item_2) >=500:\n",
    "    print('your items are eligible for free shipping')\n",
    "\n",
    "else:\n",
    "    etra = 500 - (item_1 + item_2)\n",
    "    print('please add', etra, 'naira worth of an item for free shipping')"
   ]
  },
  {
   "cell_type": "code",
   "execution_count": 30,
   "id": "a3484f1f",
   "metadata": {},
   "outputs": [
    {
     "name": "stdout",
     "output_type": "stream",
     "text": [
      "both condition are true\n"
     ]
    }
   ],
   "source": [
    "a = 300\n",
    "\n",
    "b = 200\n",
    "\n",
    "c = 100\n",
    "\n",
    "if a > b and c < a:\n",
    "    print('both condition are true')\n",
    "\n",
    "else:\n",
    "    print('both are not true')"
   ]
  },
  {
   "cell_type": "code",
   "execution_count": 28,
   "id": "bd5c88cb",
   "metadata": {},
   "outputs": [
    {
     "name": "stdout",
     "output_type": "stream",
     "text": [
      "69 -First class\n"
     ]
    }
   ],
   "source": [
    "marks = 69\n",
    "if marks >= 60:\n",
    "    if marks >70:\n",
    "        print(marks, '-Distinction')\n",
    "    else: \n",
    "        print(marks, '-First class')\n",
    "elif marks > 50 and marks <= 60:\n",
    "    print(marks, '-second class')\n",
    "    \n",
    "elif marks >= 35:\n",
    "    print(marks, '-pass')\n",
    "    \n",
    "else:\n",
    "    print(marks, '-better luck and work hard')\n",
    "\n"
   ]
  },
  {
   "cell_type": "markdown",
   "id": "fac3b6c3",
   "metadata": {},
   "source": [
    "# The Range function"
   ]
  },
  {
   "cell_type": "code",
   "execution_count": 1,
   "id": "cae8ede3",
   "metadata": {},
   "outputs": [
    {
     "name": "stdout",
     "output_type": "stream",
     "text": [
      "range(0, 10)\n"
     ]
    }
   ],
   "source": [
    "print(range(10))"
   ]
  },
  {
   "cell_type": "code",
   "execution_count": 2,
   "id": "c10e558d",
   "metadata": {},
   "outputs": [
    {
     "name": "stdout",
     "output_type": "stream",
     "text": [
      "[0, 1, 2, 3, 4, 5, 6, 7, 8, 9]\n"
     ]
    }
   ],
   "source": [
    "print(list(range(10)))"
   ]
  },
  {
   "cell_type": "code",
   "execution_count": 3,
   "id": "a5851dae",
   "metadata": {},
   "outputs": [
    {
     "data": {
      "text/plain": [
       "[1, 2, 3, 4, 5, 6, 7]"
      ]
     },
     "execution_count": 3,
     "metadata": {},
     "output_type": "execute_result"
    }
   ],
   "source": [
    "roll_numbers = list(range(1,8))\n",
    "roll_numbers"
   ]
  },
  {
   "cell_type": "code",
   "execution_count": 6,
   "id": "ee85a199",
   "metadata": {},
   "outputs": [
    {
     "data": {
      "text/plain": [
       "[0, 2, 4, 6, 8, 10, 12, 14, 16, 18, 20, 22, 24, 26, 28, 30]"
      ]
     },
     "execution_count": 6,
     "metadata": {},
     "output_type": "execute_result"
    }
   ],
   "source": [
    "step_size = list(range(0,31,2))\n",
    "step_size"
   ]
  },
  {
   "cell_type": "code",
   "execution_count": 8,
   "id": "8e7c63a2",
   "metadata": {},
   "outputs": [
    {
     "data": {
      "text/plain": [
       "[100,\n",
       " 200,\n",
       " 300,\n",
       " 400,\n",
       " 500,\n",
       " 600,\n",
       " 700,\n",
       " 800,\n",
       " 900,\n",
       " 1000,\n",
       " 1100,\n",
       " 1200,\n",
       " 1300,\n",
       " 1400,\n",
       " 1500,\n",
       " 1600]"
      ]
     },
     "execution_count": 8,
     "metadata": {},
     "output_type": "execute_result"
    }
   ],
   "source": [
    "incr_by_hun = list(range(100,1601,100))\n",
    "incr_by_hun"
   ]
  },
  {
   "cell_type": "code",
   "execution_count": 18,
   "id": "b9571cbf",
   "metadata": {},
   "outputs": [
    {
     "data": {
      "text/plain": [
       "[1600,\n",
       " 1500,\n",
       " 1400,\n",
       " 1300,\n",
       " 1200,\n",
       " 1100,\n",
       " 1000,\n",
       " 900,\n",
       " 800,\n",
       " 700,\n",
       " 600,\n",
       " 500,\n",
       " 400,\n",
       " 300,\n",
       " 200,\n",
       " 100]"
      ]
     },
     "execution_count": 18,
     "metadata": {},
     "output_type": "execute_result"
    }
   ],
   "source": [
    "reverse = list(range(1600,99,-100))\n",
    "reverse"
   ]
  },
  {
   "cell_type": "markdown",
   "id": "3cd4fdb1",
   "metadata": {},
   "source": [
    "# LOOPS"
   ]
  },
  {
   "cell_type": "code",
   "execution_count": 19,
   "id": "a02592e8",
   "metadata": {},
   "outputs": [
    {
     "name": "stdout",
     "output_type": "stream",
     "text": [
      "['sunderland', 'newcastle', 'bermiham', 'london', 'newyork']\n"
     ]
    }
   ],
   "source": [
    "location = ['sunderland','newcastle','bermiham','london','newyork']\n",
    "print(location)"
   ]
  },
  {
   "cell_type": "code",
   "execution_count": 20,
   "id": "7252f6d9",
   "metadata": {},
   "outputs": [
    {
     "name": "stdout",
     "output_type": "stream",
     "text": [
      "sunderland\n",
      "newcastle\n",
      "bermiham\n",
      "london\n",
      "newyork\n"
     ]
    }
   ],
   "source": [
    "location = ['sunderland','newcastle','bermiham','london','newyork']\n",
    "for city in location:\n",
    "    print(city)"
   ]
  },
  {
   "cell_type": "code",
   "execution_count": 22,
   "id": "e7c55faa",
   "metadata": {},
   "outputs": [
    {
     "name": "stdout",
     "output_type": "stream",
     "text": [
      "2000\n",
      "4000\n",
      "5000\n",
      "4500\n",
      "3800\n"
     ]
    }
   ],
   "source": [
    "salary = [2000,4000,5000,7000,8000,4500,3800]\n",
    "\n",
    "for val in salary:\n",
    "    if val < 5500:\n",
    "        print(val)\n",
    "    "
   ]
  },
  {
   "cell_type": "code",
   "execution_count": 37,
   "id": "1a8e85a3",
   "metadata": {},
   "outputs": [
    {
     "name": "stdout",
     "output_type": "stream",
     "text": [
      "35 -pass\n",
      "67 -first class\n",
      "89 -distinction\n",
      "78 -distinction\n",
      "79 -distinction\n",
      "22 -fail better luck next\n",
      "37 -pass\n",
      "54 -second class\n",
      "70 -first class\n"
     ]
    }
   ],
   "source": [
    "student_scores = [35,67,89,78,79,22,37,54,70]\n",
    "\n",
    "for marks in student_scores:\n",
    "    if marks > 60:\n",
    "        if marks > 70:\n",
    "            print(marks,'-distinction')\n",
    "        else:\n",
    "            print(marks,'-first class')\n",
    "            \n",
    "    elif marks > 50 and marks <= 60:\n",
    "        print(marks, '-second class')\n",
    "        \n",
    "    elif marks >= 35:\n",
    "        print(marks,'-pass')\n",
    "        \n",
    "    else:\n",
    "        print(marks,'-fail better luck next')\n",
    "    "
   ]
  },
  {
   "cell_type": "markdown",
   "id": "fedd6cb1",
   "metadata": {},
   "source": [
    "# List comprension"
   ]
  },
  {
   "cell_type": "code",
   "execution_count": 42,
   "id": "2ea31541",
   "metadata": {},
   "outputs": [
    {
     "name": "stdout",
     "output_type": "stream",
     "text": [
      "multiplication table for- 2\n",
      "2\n",
      "4\n",
      "6\n",
      "8\n",
      "10\n",
      "12\n",
      "14\n",
      "16\n",
      "18\n",
      "20\n",
      "\n",
      "\n",
      "multiplication table for- 3\n",
      "3\n",
      "6\n",
      "9\n",
      "12\n",
      "15\n",
      "18\n",
      "21\n",
      "24\n",
      "27\n",
      "30\n",
      "\n",
      "\n",
      "multiplication table for- 4\n",
      "4\n",
      "8\n",
      "12\n",
      "16\n",
      "20\n",
      "24\n",
      "28\n",
      "32\n",
      "36\n",
      "40\n",
      "\n",
      "\n",
      "multiplication table for- 5\n",
      "5\n",
      "10\n",
      "15\n",
      "20\n",
      "25\n",
      "30\n",
      "35\n",
      "40\n",
      "45\n",
      "50\n",
      "\n",
      "\n",
      "multiplication table for- 6\n",
      "6\n",
      "12\n",
      "18\n",
      "24\n",
      "30\n",
      "36\n",
      "42\n",
      "48\n",
      "54\n",
      "60\n",
      "\n",
      "\n",
      "multiplication table for- 7\n",
      "7\n",
      "14\n",
      "21\n",
      "28\n",
      "35\n",
      "42\n",
      "49\n",
      "56\n",
      "63\n",
      "70\n",
      "\n",
      "\n",
      "multiplication table for- 8\n",
      "8\n",
      "16\n",
      "24\n",
      "32\n",
      "40\n",
      "48\n",
      "56\n",
      "64\n",
      "72\n",
      "80\n",
      "\n",
      "\n",
      "multiplication table for- 9\n",
      "9\n",
      "18\n",
      "27\n",
      "36\n",
      "45\n",
      "54\n",
      "63\n",
      "72\n",
      "81\n",
      "90\n",
      "\n",
      "\n",
      "******************************\n",
      "end multiplication table\n",
      "******************************\n"
     ]
    }
   ],
   "source": [
    "for num in range (2,10):\n",
    "    print('multiplication table for-', num)\n",
    "    for i in range (1,11):\n",
    "        print(num * i)\n",
    "        if i == 10:\n",
    "            print('\\n')\n",
    "else:\n",
    "    print('*' * 30)\n",
    "    print('end multiplication table') # else is optional\n",
    "    print('*' * 30)"
   ]
  },
  {
   "cell_type": "markdown",
   "id": "715edd30",
   "metadata": {},
   "source": [
    "# While loop"
   ]
  },
  {
   "cell_type": "code",
   "execution_count": 48,
   "id": "608aa154",
   "metadata": {},
   "outputs": [
    {
     "name": "stdout",
     "output_type": "stream",
     "text": [
      "1 Data trained\n",
      "2 Data trained\n",
      "3 Data trained\n",
      "4 Data trained\n",
      "5 Data trained\n",
      "6 Data trained\n",
      "7 Data trained\n",
      "8 Data trained\n",
      "9 Data trained\n",
      "10 Data trained\n",
      "11 Data trained\n",
      "12 Data trained\n",
      "13 Data trained\n",
      "14 Data trained\n",
      "15 Data trained\n"
     ]
    }
   ],
   "source": [
    "#let's do this using while loop\n",
    "i = 0\n",
    "\n",
    "while i < 15:\n",
    "    i = i + 1\n",
    "    print (i, 'Data trained')"
   ]
  },
  {
   "cell_type": "code",
   "execution_count": 49,
   "id": "1c2425a0",
   "metadata": {},
   "outputs": [
    {
     "name": "stdout",
     "output_type": "stream",
     "text": [
      "time.struct_time(tm_year=2022, tm_mon=6, tm_mday=20, tm_hour=8, tm_min=26, tm_sec=13, tm_wday=0, tm_yday=171, tm_isdst=1)\n"
     ]
    }
   ],
   "source": [
    "import time\n",
    "result = time.localtime()\n",
    "print(result)"
   ]
  },
  {
   "cell_type": "markdown",
   "id": "b845622e",
   "metadata": {},
   "source": [
    "while True:\n",
    "    result = time.localtime()\n",
    "    if result.tm_hour == 8 and result.tm_min == 46:\n",
    "        print('wake up beach') #instead of print your mobile will make sound\n",
    "        break"
   ]
  },
  {
   "cell_type": "markdown",
   "id": "f6cedcd2",
   "metadata": {},
   "source": [
    "# difference btw for and while loop"
   ]
  },
  {
   "cell_type": "markdown",
   "id": "88693113",
   "metadata": {},
   "source": [
    "# enumerate"
   ]
  },
  {
   "cell_type": "code",
   "execution_count": 1,
   "id": "54e684f2",
   "metadata": {},
   "outputs": [
    {
     "name": "stdout",
     "output_type": "stream",
     "text": [
      "(0, 'john')\n",
      "(1, 'simon')\n",
      "(2, 'peter')\n",
      "(3, 'tony')\n",
      "(4, 'bethlehem')\n",
      "(5, 'mercy')\n"
     ]
    }
   ],
   "source": [
    "students = ['john', 'simon','peter','tony','bethlehem','mercy',]\n",
    "for name in enumerate (students):\n",
    "    print(name)"
   ]
  },
  {
   "cell_type": "code",
   "execution_count": 2,
   "id": "a2f745c6",
   "metadata": {},
   "outputs": [
    {
     "name": "stdout",
     "output_type": "stream",
     "text": [
      "1 john\n",
      "2 simon\n",
      "3 peter\n",
      "4 tony\n",
      "5 bethlehem\n",
      "6 mercy\n"
     ]
    }
   ],
   "source": [
    "for i, name in enumerate (students,1):\n",
    "    print(i,name)"
   ]
  },
  {
   "cell_type": "markdown",
   "id": "f894be2b",
   "metadata": {},
   "source": [
    "ZIP"
   ]
  },
  {
   "cell_type": "code",
   "execution_count": 74,
   "id": "64543b87",
   "metadata": {},
   "outputs": [],
   "source": [
    "students_name = ['sandra','jip','uip','typ','uio']\n",
    "student_marks = [56,87,67,54,32]"
   ]
  },
  {
   "cell_type": "code",
   "execution_count": 75,
   "id": "2ae06a4a",
   "metadata": {},
   "outputs": [
    {
     "data": {
      "text/plain": [
       "[('sandra', 56), ('jip', 87), ('uip', 67), ('typ', 54), ('uio', 32)]"
      ]
     },
     "execution_count": 75,
     "metadata": {},
     "output_type": "execute_result"
    }
   ],
   "source": [
    "student_details = list(zip(students_name, student_marks))\n",
    "student_details"
   ]
  },
  {
   "cell_type": "markdown",
   "id": "27d8e112",
   "metadata": {},
   "source": [
    "UNZIP"
   ]
  },
  {
   "cell_type": "code",
   "execution_count": 12,
   "id": "6fc371b9",
   "metadata": {},
   "outputs": [],
   "source": [
    "name, marks_num = zip(*student_details)"
   ]
  },
  {
   "cell_type": "code",
   "execution_count": 13,
   "id": "aa89f2c1",
   "metadata": {},
   "outputs": [
    {
     "data": {
      "text/plain": [
       "('sandra', 'jip', 'uip', 'typ', 'uio')"
      ]
     },
     "execution_count": 13,
     "metadata": {},
     "output_type": "execute_result"
    }
   ],
   "source": [
    "name"
   ]
  },
  {
   "cell_type": "code",
   "execution_count": 14,
   "id": "b7bcb7e8",
   "metadata": {},
   "outputs": [
    {
     "data": {
      "text/plain": [
       "(56, 87, 67, 54, 32)"
      ]
     },
     "execution_count": 14,
     "metadata": {},
     "output_type": "execute_result"
    }
   ],
   "source": [
    "marks_num"
   ]
  },
  {
   "cell_type": "markdown",
   "id": "86b43d9a",
   "metadata": {},
   "source": [
    "ENUMERATE AND ZIP"
   ]
  },
  {
   "cell_type": "code",
   "execution_count": 16,
   "id": "17b1b20d",
   "metadata": {},
   "outputs": [
    {
     "name": "stdout",
     "output_type": "stream",
     "text": [
      "1 sandra 56\n",
      "2 jip 87\n",
      "3 uip 67\n",
      "4 typ 54\n",
      "5 uio 32\n"
     ]
    }
   ],
   "source": [
    "for i, (name,   marks) in enumerate (zip(students_name, student_marks), 1):\n",
    "    print(i,name,marks)\n",
    "    "
   ]
  },
  {
   "cell_type": "markdown",
   "id": "1086f0c4",
   "metadata": {},
   "source": [
    "BREAK"
   ]
  },
  {
   "cell_type": "code",
   "execution_count": 19,
   "id": "9c2de271",
   "metadata": {},
   "outputs": [
    {
     "name": "stdout",
     "output_type": "stream",
     "text": [
      "sunderland\n",
      "newcastle\n",
      "bermiham\n"
     ]
    }
   ],
   "source": [
    "city = ['sunderland','newcastle','bermiham','london','newyork']\n",
    "for val in city:\n",
    "    if val == 'london':\n",
    "        break\n",
    "    print(val)"
   ]
  },
  {
   "cell_type": "code",
   "execution_count": 22,
   "id": "7e105111",
   "metadata": {},
   "outputs": [
    {
     "name": "stdout",
     "output_type": "stream",
     "text": [
      "3900\n",
      "4000\n",
      "2000\n",
      "1000\n",
      "7800\n",
      "500\n"
     ]
    }
   ],
   "source": [
    "salary = [3900,4000,2000,1000,7800,500]\n",
    "\n",
    "for val in salary:\n",
    "    if val > 7800:\n",
    "        break\n",
    "    print(val)"
   ]
  },
  {
   "cell_type": "markdown",
   "id": "7da7e05f",
   "metadata": {},
   "source": [
    "CONTINUE"
   ]
  },
  {
   "cell_type": "code",
   "execution_count": 23,
   "id": "2385a3ce",
   "metadata": {},
   "outputs": [
    {
     "name": "stdout",
     "output_type": "stream",
     "text": [
      "sunderland\n",
      "newcastle\n",
      "bermiham\n",
      "newyork\n"
     ]
    }
   ],
   "source": [
    "city = ['sunderland','newcastle','bermiham','london','newyork']\n",
    "for val in city:\n",
    "    if val == 'london':\n",
    "        continue\n",
    "    print(val)"
   ]
  },
  {
   "cell_type": "code",
   "execution_count": 24,
   "id": "c64ab5c4",
   "metadata": {},
   "outputs": [
    {
     "name": "stdout",
     "output_type": "stream",
     "text": [
      "3900\n",
      "4000\n",
      "2000\n",
      "1000\n",
      "7800\n",
      "500\n"
     ]
    }
   ],
   "source": [
    "salary = [3900,4000,2000,1000,7800,500]\n",
    "\n",
    "for val in salary:\n",
    "    if val > 7800:\n",
    "        continue\n",
    "    print(val)"
   ]
  },
  {
   "cell_type": "markdown",
   "id": "fa8bf7c8",
   "metadata": {},
   "source": [
    "Functions"
   ]
  },
  {
   "cell_type": "code",
   "execution_count": 1,
   "id": "b8e8bbe5",
   "metadata": {},
   "outputs": [],
   "source": [
    "def say_hello ():\n",
    "    print('this is just a sample')"
   ]
  },
  {
   "cell_type": "code",
   "execution_count": 2,
   "id": "1adfd397",
   "metadata": {},
   "outputs": [
    {
     "name": "stdout",
     "output_type": "stream",
     "text": [
      "this is just a sample\n"
     ]
    }
   ],
   "source": [
    "say_hello ()"
   ]
  },
  {
   "cell_type": "code",
   "execution_count": 3,
   "id": "c48916bd",
   "metadata": {},
   "outputs": [],
   "source": [
    "def greeting(name):\n",
    "    print('hello', name)"
   ]
  },
  {
   "cell_type": "code",
   "execution_count": 4,
   "id": "da44d2a2",
   "metadata": {},
   "outputs": [
    {
     "name": "stdout",
     "output_type": "stream",
     "text": [
      "hello Dear student\n"
     ]
    }
   ],
   "source": [
    "greeting ('Dear student')"
   ]
  },
  {
   "cell_type": "code",
   "execution_count": 7,
   "id": "c713aff1",
   "metadata": {},
   "outputs": [],
   "source": [
    "#without a return\n",
    "\n",
    "def salary_incr(salary):\n",
    "    if salary <= 9000:\n",
    "        salary + (salary + 1000)\n",
    "        \n",
    "    else:\n",
    "        return salary\n",
    "            "
   ]
  },
  {
   "cell_type": "code",
   "execution_count": 8,
   "id": "6f36ccaa",
   "metadata": {},
   "outputs": [
    {
     "name": "stdout",
     "output_type": "stream",
     "text": [
      "your new salary= None\n"
     ]
    }
   ],
   "source": [
    "print ('your new salary=', salary_incr (1500))"
   ]
  },
  {
   "cell_type": "code",
   "execution_count": 9,
   "id": "ee4602ba",
   "metadata": {},
   "outputs": [],
   "source": [
    "#with return\n",
    "\n",
    "def salary_incr(salary):\n",
    "    if salary <= 9000:\n",
    "        return (salary + 1000)\n",
    "        \n",
    "    else:\n",
    "        salary\n",
    "            "
   ]
  },
  {
   "cell_type": "code",
   "execution_count": 13,
   "id": "d3e12f74",
   "metadata": {},
   "outputs": [
    {
     "name": "stdout",
     "output_type": "stream",
     "text": [
      "your new salary= 1000\n"
     ]
    }
   ],
   "source": [
    "print ('your new salary=', salary_incr (2500))"
   ]
  },
  {
   "cell_type": "markdown",
   "id": "ce7ab108",
   "metadata": {},
   "source": [
    "with multiple argument (adding student details)"
   ]
  },
  {
   "cell_type": "code",
   "execution_count": 14,
   "id": "cf687875",
   "metadata": {},
   "outputs": [],
   "source": [
    "def stud_marks (sciece, commerce, literature):\n",
    "    return(sciece + commerce + literature)"
   ]
  },
  {
   "cell_type": "code",
   "execution_count": 15,
   "id": "58dde660",
   "metadata": {},
   "outputs": [
    {
     "name": "stdout",
     "output_type": "stream",
     "text": [
      "your total marks= 266\n"
     ]
    }
   ],
   "source": [
    "print ('your total marks=', stud_marks(78,98,90))"
   ]
  },
  {
   "cell_type": "code",
   "execution_count": 16,
   "id": "180d2fc4",
   "metadata": {},
   "outputs": [
    {
     "data": {
      "text/plain": [
       "210"
      ]
     },
     "execution_count": 16,
     "metadata": {},
     "output_type": "execute_result"
    }
   ],
   "source": [
    "total_marks = stud_marks(56,76,78)\n",
    "total_marks"
   ]
  },
  {
   "cell_type": "code",
   "execution_count": 19,
   "id": "c30d9dac",
   "metadata": {},
   "outputs": [
    {
     "name": "stdout",
     "output_type": "stream",
     "text": [
      "188 - you are first class\n"
     ]
    }
   ],
   "source": [
    "total_marks = stud_marks (78,98,12)\n",
    "\n",
    "if total_marks < 67:\n",
    "    print(total_marks, '- you failed')\n",
    "\n",
    "elif total_marks >= 90 and total_marks <= 150:\n",
    "    print(total_marks, '- you passed')\n",
    "\n",
    "elif total_marks >= 151 and total_marks <= 255:\n",
    "    print(total_marks, '- you are first class')\n",
    "    \n",
    "else:\n",
    "    print(total_marks, '- distinction')"
   ]
  },
  {
   "cell_type": "code",
   "execution_count": null,
   "id": "a683c601",
   "metadata": {},
   "outputs": [],
   "source": []
  },
  {
   "cell_type": "code",
   "execution_count": 55,
   "id": "768b1aee",
   "metadata": {},
   "outputs": [],
   "source": [
    "def phone_price(phone_make, phone_age, phone_model_GB):\n",
    "    if phone_make == 'iphone 11':\n",
    "        if 0 < phone_age <= 6:\n",
    "            if phone_model_GB == 64:\n",
    "                print('$12,000 - $13,000')   \n",
    "            elif phone_model_GB == 128:\n",
    "                print('$16,000 - $17,000')\n",
    "                  \n",
    "        if 6 < phone_age <= 12:\n",
    "            if phone_model_GB == 64:\n",
    "                print('$15,000 - $16,000')\n",
    "            elif phone_model_GB == 128:\n",
    "                print('18,000 - $19,000')\n",
    "                  \n",
    "    elif phone_make == 'samsung':\n",
    "        if 0 < phone_age <= 6:\n",
    "            print('$4,000 - $6,000')\n",
    "        elif phone_age > 6:\n",
    "            print('$7,000 - $8,000')\n",
    "                      \n",
    "    elif phone_make == 'redmi':\n",
    "        if 0 < phone_age <= 6:\n",
    "            print('$3,000 - $5,000')\n",
    "        elif phone_age > 6:\n",
    "            print('$6,000 - $8,000')\n",
    "                      \n",
    "    else:\n",
    "        print('out of stock check back')\n",
    "        "
   ]
  },
  {
   "cell_type": "code",
   "execution_count": 62,
   "id": "8e04bdda",
   "metadata": {},
   "outputs": [
    {
     "name": "stdout",
     "output_type": "stream",
     "text": [
      "out of stock check back\n"
     ]
    }
   ],
   "source": [
    "phone_price('redmi',6,128)"
   ]
  },
  {
   "cell_type": "markdown",
   "id": "5ae0cfb0",
   "metadata": {},
   "source": [
    "LAMBDA FUNCTION"
   ]
  },
  {
   "cell_type": "code",
   "execution_count": null,
   "id": "c1d7c3e8",
   "metadata": {},
   "outputs": [],
   "source": [
    "lambda arguments: expression"
   ]
  },
  {
   "cell_type": "code",
   "execution_count": 63,
   "id": "fb4a5ef9",
   "metadata": {},
   "outputs": [
    {
     "name": "stdout",
     "output_type": "stream",
     "text": [
      "90\n"
     ]
    }
   ],
   "source": [
    "add_num = lambda y : y + 30\n",
    "print(add_num (60))"
   ]
  },
  {
   "cell_type": "code",
   "execution_count": 65,
   "id": "c83e8076",
   "metadata": {},
   "outputs": [
    {
     "name": "stdout",
     "output_type": "stream",
     "text": [
      "300\n"
     ]
    }
   ],
   "source": [
    "multi_num = lambda a,b : a*b\n",
    "print(multi_num(20,15))"
   ]
  },
  {
   "cell_type": "markdown",
   "id": "11754117",
   "metadata": {},
   "source": [
    "*args and kwargs"
   ]
  },
  {
   "cell_type": "code",
   "execution_count": 66,
   "id": "f94baa09",
   "metadata": {},
   "outputs": [],
   "source": [
    "def my_fun(*args):\n",
    "    \n",
    "    for i in args:\n",
    "        print('my args: - ', i)\n"
   ]
  },
  {
   "cell_type": "code",
   "execution_count": 67,
   "id": "24226d2f",
   "metadata": {},
   "outputs": [
    {
     "name": "stdout",
     "output_type": "stream",
     "text": [
      "my args: -  india\n",
      "my args: -  67\n",
      "my args: -  sunderland\n",
      "my args: -  40\n",
      "my args: -  34\n"
     ]
    }
   ],
   "source": [
    "my_fun('india', 67, 'sunderland',)"
   ]
  },
  {
   "cell_type": "markdown",
   "id": "13100300",
   "metadata": {},
   "source": [
    "*kwargs means keys and values"
   ]
  },
  {
   "cell_type": "code",
   "execution_count": 78,
   "id": "e2099555",
   "metadata": {},
   "outputs": [],
   "source": [
    "def my_kwargs(**kwargs):\n",
    "    for key, value in kwargs.items():\n",
    "        print(key, value)"
   ]
  },
  {
   "cell_type": "code",
   "execution_count": 79,
   "id": "c2d91eda",
   "metadata": {},
   "outputs": [
    {
     "name": "stdout",
     "output_type": "stream",
     "text": [
      "students ['linus', 'samuel']\n",
      "marks [34, 45]\n"
     ]
    }
   ],
   "source": [
    "my_kwargs(students=['linus', 'samuel'], marks = [34,45])"
   ]
  },
  {
   "cell_type": "markdown",
   "id": "9088ff99",
   "metadata": {},
   "source": [
    "STRING INDEXING"
   ]
  },
  {
   "cell_type": "markdown",
   "id": "1c39fd6b",
   "metadata": {},
   "source": [
    "MAP\n"
   ]
  },
  {
   "cell_type": "code",
   "execution_count": 81,
   "id": "617b799a",
   "metadata": {},
   "outputs": [],
   "source": [
    "def grace_marks (marks):\n",
    "    if marks == 33:\n",
    "        return (marks + 2)\n",
    "    elif marks == 34:\n",
    "        return (marks + 1)\n",
    "    else:\n",
    "        return marks\n",
    "    "
   ]
  },
  {
   "cell_type": "code",
   "execution_count": 88,
   "id": "9df28f35",
   "metadata": {},
   "outputs": [],
   "source": [
    "score = [34,50,36,32,31]"
   ]
  },
  {
   "cell_type": "code",
   "execution_count": 89,
   "id": "09130d77",
   "metadata": {},
   "outputs": [
    {
     "name": "stdout",
     "output_type": "stream",
     "text": [
      "[35, 50, 36, 32, 31]\n"
     ]
    }
   ],
   "source": [
    "total = list(map(grace_marks, score))\n",
    "print (total)"
   ]
  },
  {
   "cell_type": "code",
   "execution_count": 90,
   "id": "b375f45d",
   "metadata": {},
   "outputs": [
    {
     "data": {
      "text/plain": [
       "1"
      ]
     },
     "execution_count": 90,
     "metadata": {},
     "output_type": "execute_result"
    }
   ],
   "source": [
    "total.count (35)"
   ]
  },
  {
   "cell_type": "markdown",
   "id": "744d24ca",
   "metadata": {},
   "source": [
    "# filter()"
   ]
  },
  {
   "cell_type": "code",
   "execution_count": 91,
   "id": "a2b8445e",
   "metadata": {},
   "outputs": [],
   "source": [
    "def filter_marks(marks):\n",
    "    if marks < 35:\n",
    "        return marks\n",
    "    "
   ]
  },
  {
   "cell_type": "code",
   "execution_count": 92,
   "id": "6af15b6b",
   "metadata": {},
   "outputs": [],
   "source": [
    "score = [34,50,36,32,31]\n"
   ]
  },
  {
   "cell_type": "code",
   "execution_count": 93,
   "id": "2cbec442",
   "metadata": {},
   "outputs": [
    {
     "data": {
      "text/plain": [
       "[34, 32, 31]"
      ]
     },
     "execution_count": 93,
     "metadata": {},
     "output_type": "execute_result"
    }
   ],
   "source": [
    "failed = list(filter(filter_marks, score))\n",
    "failed"
   ]
  },
  {
   "cell_type": "markdown",
   "id": "2607cf98",
   "metadata": {},
   "source": [
    "diff between map and filter"
   ]
  },
  {
   "cell_type": "markdown",
   "id": "105bc557",
   "metadata": {},
   "source": [
    "# GLOBAL AND LOCAL VARIABLE"
   ]
  },
  {
   "cell_type": "code",
   "execution_count": null,
   "id": "5bc790a4",
   "metadata": {},
   "outputs": [],
   "source": []
  },
  {
   "cell_type": "markdown",
   "id": "14b816b3",
   "metadata": {},
   "source": [
    "#input from user/keyword"
   ]
  },
  {
   "cell_type": "markdown",
   "id": "210affd2",
   "metadata": {},
   "source": [
    "#let's understand how to make user to enter only integers and strings"
   ]
  },
  {
   "cell_type": "code",
   "execution_count": 1,
   "id": "b8cc5ec3",
   "metadata": {},
   "outputs": [
    {
     "name": "stdout",
     "output_type": "stream",
     "text": [
      "Enter your name Emmanuel\n",
      "user entered:  Emmanuel\n"
     ]
    }
   ],
   "source": [
    "name = input(\"Enter your name \")\n",
    "\n",
    "print ('user entered: ', name)"
   ]
  },
  {
   "cell_type": "code",
   "execution_count": 7,
   "id": "cae556fc",
   "metadata": {},
   "outputs": [
    {
     "name": "stdout",
     "output_type": "stream",
     "text": [
      "Enter maths score - 78\n",
      "Enter science score -98\n",
      "your total score:  176\n"
     ]
    }
   ],
   "source": [
    "maths = int(input('Enter maths score - '))\n",
    "\n",
    "science = int(input('Enter science score -'))\n",
    "\n",
    "total_marks = maths + science\n",
    "print('your total score: ', total_marks)"
   ]
  },
  {
   "cell_type": "markdown",
   "id": "1688d87b",
   "metadata": {},
   "source": [
    "#How you check only letters"
   ]
  },
  {
   "cell_type": "code",
   "execution_count": 9,
   "id": "3b3c73f3",
   "metadata": {},
   "outputs": [
    {
     "name": "stdout",
     "output_type": "stream",
     "text": [
      "Enter your name =young\n",
      "you entered = young\n"
     ]
    }
   ],
   "source": [
    "name = input('Enter your name =')\n",
    "if name.isalpha():\n",
    "    print('you entered =', name)\n",
    "else:\n",
    "    print('you only need to put in characters')"
   ]
  },
  {
   "cell_type": "code",
   "execution_count": 10,
   "id": "1981342e",
   "metadata": {},
   "outputs": [],
   "source": [
    "def phone_price(phone_make, phone_age, phone_model_GB):\n",
    "    if phone_make == 'iphone 11':\n",
    "        if 0 < phone_age <= 6:\n",
    "            if phone_model_GB == 64:\n",
    "                print('$12,000 - $13,000')   \n",
    "            elif phone_model_GB == 128:\n",
    "                print('$16,000 - $17,000')\n",
    "                  \n",
    "        if 6 < phone_age <= 12:\n",
    "            if phone_model_GB == 64:\n",
    "                print('$15,000 - $16,000')\n",
    "            elif phone_model_GB == 128:\n",
    "                print('18,000 - $19,000')\n",
    "                  \n",
    "    elif phone_make == 'samsung':\n",
    "        if 0 < phone_age <= 6:\n",
    "            print('$4,000 - $6,000')\n",
    "        elif phone_age > 6:\n",
    "            print('$7,000 - $8,000')\n",
    "                      \n",
    "    elif phone_make == 'redmi':\n",
    "        if 0 < phone_age <= 6:\n",
    "            print('$3,000 - $5,000')\n",
    "        elif phone_age > 6:\n",
    "            print('$6,000 - $8,000')\n",
    "                      \n",
    "    else:\n",
    "        print('out of stock check back')\n",
    "        "
   ]
  },
  {
   "cell_type": "code",
   "execution_count": 11,
   "id": "42eb6a5a",
   "metadata": {},
   "outputs": [
    {
     "name": "stdout",
     "output_type": "stream",
     "text": [
      "enter phone name -iphone 11\n",
      "enter how old is your phone in month -9\n",
      "Enter GB in numbers -64\n",
      "$15,000 - $16,000\n"
     ]
    }
   ],
   "source": [
    "phone = input('enter phone name -')\n",
    "\n",
    "months_old = int(input('enter how old is your phone in month -'))\n",
    "\n",
    "capacity = int(input('Enter GB in numbers -'))\n",
    "\n",
    "phone_price(phone, months_old, capacity)"
   ]
  },
  {
   "cell_type": "code",
   "execution_count": 21,
   "id": "6e3404a4",
   "metadata": {},
   "outputs": [
    {
     "name": "stdout",
     "output_type": "stream",
     "text": [
      "your car number    \n",
      "name jjk\n",
      "mobile number    \n",
      "thanks for the information\n"
     ]
    }
   ],
   "source": [
    "try:\n",
    "    car_number = input('your car number ')\n",
    "    name = input('name ')\n",
    "    mobile = input('mobile number ')\n",
    "    \n",
    "    if car_number == ' ':\n",
    "        raise exception()\n",
    "    elif name == ' ':\n",
    "        raise exception()\n",
    "    elif mobile == ' ' :\n",
    "        raise exception()\n",
    "    else:\n",
    "        pass\n",
    "    \n",
    "except:\n",
    "    if car_number ==' ':\n",
    "        print('\\n the registration number is required') #\\n means move to the next line\n",
    "    \n",
    "    if name ==' ':\n",
    "        print ('the customer name is required. \\n')\n",
    "    if mobile ==' ':\n",
    "        print ('mobile number is required')\n",
    "else:\n",
    "    print('thanks for the information')\n",
    "    \n",
    "        "
   ]
  },
  {
   "cell_type": "code",
   "execution_count": 22,
   "id": "f79507bf",
   "metadata": {},
   "outputs": [],
   "source": [
    "def mobile_num():\n",
    "    try:\n",
    "        val = int(input(\"please enter your mobile number \"))\n",
    "    \n",
    "    except:\n",
    "        print(\"looks like you did enetr an integer! \")\n",
    "        \n",
    "    print(val)\n",
    "                        \n",
    "        \n",
    "    "
   ]
  },
  {
   "cell_type": "code",
   "execution_count": 25,
   "id": "baa30340",
   "metadata": {},
   "outputs": [
    {
     "name": "stdout",
     "output_type": "stream",
     "text": [
      "please enter your mobile number 76756567\n",
      "76756567\n"
     ]
    }
   ],
   "source": [
    "mobile_num()"
   ]
  },
  {
   "cell_type": "code",
   "execution_count": 26,
   "id": "c1219627",
   "metadata": {},
   "outputs": [],
   "source": [
    "x = 1234567891"
   ]
  },
  {
   "cell_type": "code",
   "execution_count": 27,
   "id": "f1217e14",
   "metadata": {},
   "outputs": [
    {
     "data": {
      "text/plain": [
       "10"
      ]
     },
     "execution_count": 27,
     "metadata": {},
     "output_type": "execute_result"
    }
   ],
   "source": [
    "len(str(x))"
   ]
  },
  {
   "cell_type": "code",
   "execution_count": 4,
   "id": "d0ec9987",
   "metadata": {},
   "outputs": [],
   "source": [
    "def mobile_num():\n",
    "    while True:\n",
    "        try:\n",
    "            val = int(input('please enter mobile number'))\n",
    "            \n",
    "            if len(str(val)) != 10:\n",
    "                print('mobile number must be 10 digits')\n",
    "                continue\n",
    "                \n",
    "            else:\n",
    "                print('Thank you')\n",
    "                break\n",
    "                \n",
    "        except:\n",
    "            print('looks like you did not enter an integer!')\n",
    "            continue\n",
    "    "
   ]
  },
  {
   "cell_type": "code",
   "execution_count": 5,
   "id": "2f27e73f",
   "metadata": {},
   "outputs": [
    {
     "name": "stdout",
     "output_type": "stream",
     "text": [
      "please enter mobile number8900039\n",
      "mobile number must be 10 digits\n",
      "please enter mobile number8458298\n",
      "mobile number must be 10 digits\n",
      "please enter mobile number1234567890\n",
      "Thank you\n"
     ]
    }
   ],
   "source": [
    "mobile_num()"
   ]
  },
  {
   "cell_type": "markdown",
   "id": "1fff086a",
   "metadata": {},
   "source": [
    "HOW TO DEFINE A CLASS"
   ]
  },
  {
   "cell_type": "markdown",
   "id": "6000fed2",
   "metadata": {},
   "source": [
    "CREATING A CLASS"
   ]
  },
  {
   "cell_type": "code",
   "execution_count": 4,
   "id": "757543fb",
   "metadata": {},
   "outputs": [],
   "source": [
    "class Account:\n",
    "    pass"
   ]
  },
  {
   "cell_type": "code",
   "execution_count": 5,
   "id": "671cb6f0",
   "metadata": {},
   "outputs": [],
   "source": [
    "class Account:\n",
    "    def __init__(self, name, last_name, city, user_id, password, phone_num):\n",
    "        \n",
    "        self.name = name\n",
    "        self.last_name = last_name\n",
    "        self.city = city\n",
    "        self.user_id = user_id\n",
    "        self.password = password\n",
    "        self.phone_num = phone_num\n",
    "        "
   ]
  },
  {
   "cell_type": "code",
   "execution_count": 7,
   "id": "cf2d2a15",
   "metadata": {},
   "outputs": [
    {
     "name": "stdout",
     "output_type": "stream",
     "text": [
      "Enter your name = emm\n",
      "Enter your last name = lk\n",
      "Enter city name = jh\n",
      "Enter your preferred user id = jh\n",
      "Enter your password = 9089\n",
      "Enter your phone number8989\n"
     ]
    }
   ],
   "source": [
    "class Account:\n",
    "    def __init__(self, name = input('Enter your name = '),\n",
    "                       last_name = input('Enter your last name = '),\n",
    "                       city = input('Enter city name = '),\n",
    "                       user_id = input('Enter your preferred user id = '),\n",
    "                       password = input('Enter your password = '),\n",
    "                       phone_num = input('Enter your phone number')):\n",
    "        \n",
    "        \n",
    "        self.name = name\n",
    "        self.last_name = last_name\n",
    "        self.city = city\n",
    "        self.user_id = user_id\n",
    "        self.password = password\n",
    "        self.phone_num = phone_num\n",
    "        \n",
    "    def login(self):\n",
    "        while True:\n",
    "            \n",
    "            signin = input('Email- ')\n",
    "            password = input('Password- ')\n",
    "            if signin == self.user_id and password == self.password:\n",
    "                print('Succesfully logged in')\n",
    "                break\n",
    "            else:\n",
    "                print('user id or password invalid')\n",
    "                continue\n",
    "                         "
   ]
  },
  {
   "cell_type": "code",
   "execution_count": 9,
   "id": "f2fcf226",
   "metadata": {},
   "outputs": [],
   "source": [
    "bank = Account()"
   ]
  },
  {
   "cell_type": "code",
   "execution_count": 10,
   "id": "dc163d29",
   "metadata": {},
   "outputs": [
    {
     "name": "stdout",
     "output_type": "stream",
     "text": [
      "Email- jh\n",
      "Password- 9089\n",
      "Succesfully logged in\n"
     ]
    }
   ],
   "source": [
    "bank.login()"
   ]
  },
  {
   "cell_type": "markdown",
   "id": "c94d048e",
   "metadata": {},
   "source": [
    "INHERITANCE"
   ]
  },
  {
   "cell_type": "code",
   "execution_count": 15,
   "id": "fec9e169",
   "metadata": {},
   "outputs": [],
   "source": [
    "class User_Account(Account):\n",
    "    \n",
    "    def __init__(self, acc_number, balance, *args):\n",
    "        super (User_Account, self). __init__(*args)\n",
    "        self.acc_number = acc_number\n",
    "        self.balance = balance\n",
    "    def user_details(self):\n",
    "        while True:\n",
    "            account = int(input('Enter your account number= '))\n",
    "            if account == self.acc_number:\n",
    "                print('Name = ', self.name)\n",
    "                print('Acc_number = ', self.acc_number)\n",
    "                print('Your Balance = ', self.balance)\n",
    "                break\n",
    "            else:\n",
    "                print('Account number is not valid')\n",
    "                continue\n",
    "                \n",
    "                \n",
    "            \n",
    "    def deposit(self):\n",
    "        print('Your previous balance = ', self.balance)\n",
    "        \n",
    "        ac_num = str(self.acc_number)\n",
    "        add_cash = int(input('Deposit cash = '))\n",
    "        self.balance += add_cash\n",
    "        print('\\n FCMB Bank: gbp', add_cash, 'depost to your account ','xxx', ac_num[-3],\n",
    "              'and your current balance is', self.balance)\n",
    "        \n",
    "    def transfer (self):\n",
    "        print('Your previous account = ', self.balance )\n",
    "        \n",
    "        withdraw = int(input('How much you want to transfer = '))\n",
    "        if withdraw <= self.balance:\n",
    "            self.balance -= withdraw\n",
    "            print('FCMB bank: gbp ', withdraw, 'withrawn from your account ', self.acc_number,\n",
    "              'and your account balance is ', self.balance)\n",
    "        else:\n",
    "            print('\\n Alert: helooo sir, you do not have sufficient fund ')\n",
    "        "
   ]
  },
  {
   "cell_type": "code",
   "execution_count": 16,
   "id": "7ae59e73",
   "metadata": {},
   "outputs": [],
   "source": [
    "bank_details = User_Account(9999, 0)"
   ]
  },
  {
   "cell_type": "code",
   "execution_count": 6,
   "id": "0a3f1eec",
   "metadata": {},
   "outputs": [
    {
     "name": "stdout",
     "output_type": "stream",
     "text": [
      "Email- jh\n",
      "Password- jh\n",
      "Succesfully logged in\n"
     ]
    }
   ],
   "source": [
    "bank.login()"
   ]
  },
  {
   "cell_type": "code",
   "execution_count": 13,
   "id": "04d792c1",
   "metadata": {},
   "outputs": [
    {
     "name": "stdout",
     "output_type": "stream",
     "text": [
      "Enter your account number= 9999\n",
      "Name =  emm\n",
      "Acc_number =  9999\n",
      "Your Balance =  0\n"
     ]
    }
   ],
   "source": [
    "bank_details.user_details()"
   ]
  },
  {
   "cell_type": "code",
   "execution_count": 17,
   "id": "a661f4ab",
   "metadata": {},
   "outputs": [
    {
     "name": "stdout",
     "output_type": "stream",
     "text": [
      "Your previous balance =  0\n",
      "Deposit cash = 12000\n",
      "\n",
      " FCMB Bank: gbp 12000 depost to your account  xxx 9 and your current balance is 12000\n"
     ]
    }
   ],
   "source": [
    "bank_details.deposit()"
   ]
  },
  {
   "cell_type": "code",
   "execution_count": 18,
   "id": "85896410",
   "metadata": {},
   "outputs": [
    {
     "name": "stdout",
     "output_type": "stream",
     "text": [
      "Your previous account =  12000\n",
      "How much you want to transfer = 6000\n",
      "FCMB bank: gbp  6000 withrawn from your account  9999 and your account balance is  6000\n"
     ]
    }
   ],
   "source": [
    "bank_details.transfer()"
   ]
  },
  {
   "cell_type": "markdown",
   "id": "f05329ff",
   "metadata": {},
   "source": [
    "ENCAPSULATION"
   ]
  },
  {
   "cell_type": "markdown",
   "id": "67f2cedd",
   "metadata": {},
   "source": [
    "tyres\n",
    "engine\n",
    "body"
   ]
  },
  {
   "cell_type": "code",
   "execution_count": 23,
   "id": "9b0236cf",
   "metadata": {},
   "outputs": [
    {
     "name": "stdout",
     "output_type": "stream",
     "text": [
      "Engine \n",
      " \tBranch: MRF\n",
      " \\ Belted-bias: True\n",
      " \tOptimal pressure 34\n",
      "Egine: \n",
      " \tFuel type: Petrol\n",
      " \tNoise level:2.3\n",
      "Body: \n",
      " tSize: SUV\n"
     ]
    }
   ],
   "source": [
    "class Tyres:\n",
    "    def __init__(self, branch, belted_bias, opt_pressure):\n",
    "        self.branch = branch\n",
    "        self.belted_bias = belted_bias\n",
    "        self.opt_pressure = opt_pressure\n",
    "        \n",
    "    def __str__(self):\n",
    "        return(\"Engine \\n \\tBranch: \" + self.branch +\n",
    "              \"\\n \\ Belted-bias: \" + str(self.belted_bias)+\n",
    "              \"\\n \\tOptimal pressure \" + str(self.opt_pressure))\n",
    "class engine:\n",
    "    def __init__(self, fuel_type, noise_level):\n",
    "        self.fuel_type = fuel_type\n",
    "        self.noise_level = noise_level\n",
    "        \n",
    "    def __str__(self):\n",
    "        return(\"Egine: \\n \\tFuel type: \" + self.fuel_type +\n",
    "              \"\\n \\tNoise level:\" + str(self.noise_level))\n",
    "    \n",
    "class Body:\n",
    "    def __init__(self, size):\n",
    "        self.size = size\n",
    "        \n",
    "    def __str__ (self):\n",
    "        return(\"Body: \\n tSize: \" + self.size)\n",
    "\n",
    "class Car:\n",
    "    def __init__(self, tyres, engine, body):\n",
    "        self.tyres = tyres\n",
    "        self.engine = engine\n",
    "        self.body = body\n",
    "    \n",
    "    def __str__(self):\n",
    "        return str(self.tyres) + '\\n' + str(self.engine) + '\\n' + str(self.body)\n",
    "    \n",
    "t = Tyres('MRF', True, 34)\n",
    "e = engine('Petrol', 2.3)\n",
    "b = Body('SUV')\n",
    "c = Car(t,e,b)\n",
    "print(c)"
   ]
  },
  {
   "cell_type": "code",
   "execution_count": 25,
   "id": "81b8da46",
   "metadata": {},
   "outputs": [],
   "source": [
    "import sqlite3\n",
    "db = sqlite3.connect(\"pupils_database.db\")"
   ]
  },
  {
   "cell_type": "code",
   "execution_count": 26,
   "id": "f008c594",
   "metadata": {},
   "outputs": [],
   "source": [
    "cursor = db.cursor()"
   ]
  },
  {
   "cell_type": "code",
   "execution_count": 19,
   "id": "14f804a8",
   "metadata": {},
   "outputs": [],
   "source": [
    "results = cursor.execute (\"SELECT * FROM student_data\")\n",
    "for row in results:\n",
    "    print(row)"
   ]
  },
  {
   "cell_type": "code",
   "execution_count": 14,
   "id": "8705ba08",
   "metadata": {},
   "outputs": [],
   "source": [
    "import sqlite3\n",
    "\n",
    "db = sqlite3.connect('church_database.db')"
   ]
  },
  {
   "cell_type": "code",
   "execution_count": 15,
   "id": "d820aebb",
   "metadata": {},
   "outputs": [],
   "source": [
    "cursor = db.cursor()"
   ]
  },
  {
   "cell_type": "code",
   "execution_count": 33,
   "id": "13fab18a",
   "metadata": {},
   "outputs": [
    {
     "ename": "OperationalError",
     "evalue": "table church_data already exists",
     "output_type": "error",
     "traceback": [
      "\u001b[0;31m---------------------------------------------------------------------------\u001b[0m",
      "\u001b[0;31mOperationalError\u001b[0m                          Traceback (most recent call last)",
      "Input \u001b[0;32mIn [33]\u001b[0m, in \u001b[0;36m<cell line: 1>\u001b[0;34m()\u001b[0m\n\u001b[0;32m----> 1\u001b[0m \u001b[43mcursor\u001b[49m\u001b[38;5;241;43m.\u001b[39;49m\u001b[43mexecute\u001b[49m\u001b[43m(\u001b[49m\u001b[38;5;124;43m\"\u001b[39;49m\u001b[38;5;124;43mCREATE TABLE church_data(phone_number INT, email TEXT, course_name TEXT, fee_paid INT)\u001b[39;49m\u001b[38;5;124;43m\"\u001b[39;49m\u001b[43m)\u001b[49m\n",
      "\u001b[0;31mOperationalError\u001b[0m: table church_data already exists"
     ]
    }
   ],
   "source": [
    "cursor.execute(\"CREATE TABLE church_data(phone_number INT, email TEXT, course_name TEXT, fee_paid INT)\")"
   ]
  },
  {
   "cell_type": "code",
   "execution_count": 29,
   "id": "cefc6791",
   "metadata": {},
   "outputs": [
    {
     "name": "stdout",
     "output_type": "stream",
     "text": [
      "1  Record(s) inserted\n"
     ]
    }
   ],
   "source": [
    "cursor.execute(\"INSERT INTO church_data(phone_number, email, course_name, fee_paid) VALUES (989899898, 'ygr@gmail.com', 'datatrained', 6000)\")\n",
    "               \n",
    "print(cursor.rowcount, \" Record(s) inserted\")"
   ]
  },
  {
   "cell_type": "code",
   "execution_count": 30,
   "id": "075001e6",
   "metadata": {},
   "outputs": [
    {
     "name": "stdout",
     "output_type": "stream",
     "text": [
      "(989899898, 'ygr@gmail.com', 'datatrained', 6000)\n",
      "(989899898, 'ygr@gmail.com', 'datatrained', 6000)\n"
     ]
    }
   ],
   "source": [
    "results = cursor.execute(\"SELECT* FROM church_data \")\n",
    "for row in results:\n",
    "    print(row)"
   ]
  },
  {
   "cell_type": "markdown",
   "id": "5cff27c5",
   "metadata": {},
   "source": [
    "multiple records inserted"
   ]
  },
  {
   "cell_type": "code",
   "execution_count": 34,
   "id": "19eb15ce",
   "metadata": {},
   "outputs": [
    {
     "name": "stdout",
     "output_type": "stream",
     "text": [
      "4  Record(s) inserted\n"
     ]
    }
   ],
   "source": [
    "cursor.execute(\"INSERT INTO church_data VALUES (989899891, 'ygr@gmail.com', 'datatrained', 6000), (989899892, 'Ogr@gmail.com', 'datatrained', 7000),(989899893, 'Pgr@gmail.com', 'ECONOMIC', 3000), (989899894, 'qgr@gmail.com', 'ACCOUNTINNG', 2000) \")\n",
    "\n",
    "print(cursor.rowcount, \" Record(s) inserted\")"
   ]
  },
  {
   "cell_type": "code",
   "execution_count": 42,
   "id": "85b0d30d",
   "metadata": {},
   "outputs": [
    {
     "ename": "FileNotFoundError",
     "evalue": "[Errno 2] No such file or directory: 'PYTHON NOTES FOR LESSONS_church.csv'",
     "output_type": "error",
     "traceback": [
      "\u001b[0;31m---------------------------------------------------------------------------\u001b[0m",
      "\u001b[0;31mFileNotFoundError\u001b[0m                         Traceback (most recent call last)",
      "Input \u001b[0;32mIn [42]\u001b[0m, in \u001b[0;36m<cell line: 1>\u001b[0;34m()\u001b[0m\n\u001b[0;32m----> 1\u001b[0m \u001b[38;5;28;01mwith\u001b[39;00m \u001b[38;5;28;43mopen\u001b[39;49m\u001b[43m(\u001b[49m\u001b[38;5;124;43m'\u001b[39;49m\u001b[38;5;124;43mPYTHON NOTES FOR LESSONS_church.csv\u001b[39;49m\u001b[38;5;124;43m'\u001b[39;49m\u001b[43m,\u001b[49m\u001b[38;5;124;43m'\u001b[39;49m\u001b[38;5;124;43mr\u001b[39;49m\u001b[38;5;124;43m'\u001b[39;49m\u001b[43m)\u001b[49m \u001b[38;5;28;01mas\u001b[39;00m file:\n\u001b[1;32m      2\u001b[0m     no_records \u001b[38;5;241m=\u001b[39m \u001b[38;5;241m0\u001b[39m\n\u001b[1;32m      3\u001b[0m     \u001b[38;5;28;01mfor\u001b[39;00m row \u001b[38;5;129;01min\u001b[39;00m file:\n",
      "\u001b[0;31mFileNotFoundError\u001b[0m: [Errno 2] No such file or directory: 'PYTHON NOTES FOR LESSONS_church.csv'"
     ]
    }
   ],
   "source": [
    "with open('PYTHON NOTES FOR LESSONS_church.csv','r') as file:\n",
    "    no_records = 0\n",
    "    for row in file:\n",
    "        cursor.execute(\"INSERT INTO church_data VALUES (?,?,?,?)\", row.split(','))\n",
    "        no_record += 1\n",
    "        \n",
    "print(no_records, 'Records inserted')\n",
    "    "
   ]
  },
  {
   "cell_type": "code",
   "execution_count": 43,
   "id": "47025aa5",
   "metadata": {},
   "outputs": [
    {
     "name": "stdout",
     "output_type": "stream",
     "text": [
      "(989899898, 'ygr@gmail.com', 'datatrained', 6000)\n",
      "(989899898, 'ygr@gmail.com', 'datatrained', 6000)\n",
      "(989899891, 'ygr@gmail.com', 'datatrained', 6000)\n",
      "(989899892, 'Ogr@gmail.com', 'datatrained', 7000)\n",
      "(989899893, 'Pgr@gmail.com', 'ECONOMIC', 3000)\n",
      "(989899894, 'qgr@gmail.com', 'ACCOUNTINNG', 2000)\n",
      "(989899891, 'ygr@gmail.com', 'datatrained', 6000)\n",
      "(989899892, 'Ogr@gmail.com', 'datatrained', 7000)\n",
      "(989899893, 'Pgr@gmail.com', 'ECONOMIC', 3000)\n",
      "(989899894, 'qgr@gmail.com', 'ACCOUNTINNG', 2000)\n"
     ]
    }
   ],
   "source": [
    "results = cursor.execute(\"SELECT* FROM church_data \")\n",
    "for row in results:\n",
    "    print(row)"
   ]
  },
  {
   "cell_type": "code",
   "execution_count": 45,
   "id": "ad8e49f5",
   "metadata": {},
   "outputs": [
    {
     "name": "stdout",
     "output_type": "stream",
     "text": [
      "(989899893, 'Pgr@gmail.com', 'ECONOMIC', 3000)\n",
      "(989899893, 'Pgr@gmail.com', 'ECONOMIC', 3000)\n"
     ]
    }
   ],
   "source": [
    "sql = \"SELECT* FROM church_data WHERE course_name = 'ECONOMIC'\"\n",
    "result = cursor.execute(sql)\n",
    "for row in result:\n",
    "    print(row)"
   ]
  },
  {
   "cell_type": "code",
   "execution_count": null,
   "id": "0b25bf84",
   "metadata": {},
   "outputs": [],
   "source": []
  }
 ],
 "metadata": {
  "kernelspec": {
   "display_name": "Python 3 (ipykernel)",
   "language": "python",
   "name": "python3"
  },
  "language_info": {
   "codemirror_mode": {
    "name": "ipython",
    "version": 3
   },
   "file_extension": ".py",
   "mimetype": "text/x-python",
   "name": "python",
   "nbconvert_exporter": "python",
   "pygments_lexer": "ipython3",
   "version": "3.9.12"
  }
 },
 "nbformat": 4,
 "nbformat_minor": 5
}
